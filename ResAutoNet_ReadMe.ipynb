{
 "cells": [
  {
   "cell_type": "markdown",
   "metadata": {},
   "source": [
    "# resautonet: A Library of Autoencoder-based Residual Deep Network \n",
    "\n",
    "### Construction, use and performance analysis of autoencoder-basd residual deep network ### "
   ]
  },
  {
   "cell_type": "markdown",
   "metadata": {},
   "source": [
    "In this architecture, \n",
    "    * autoencoder is the internal base for a balance connection from the encoding to decoding layers\n",
    "    * residual connection is constructed in a nested way and the critical component to improve the training time and stability \n",
    "    \n",
    "The following left plot shows the network archtecture and the right one shows three options for the topology of residual connections. \n",
    "<img  align=\"left\" src=\"figs/fig1.png\" width=\"800\"  height=\"200\"  hspace=\"20\"/>\n"
   ]
  },
  {
   "cell_type": "markdown",
   "metadata": {},
   "source": [
    "In this note, we use two datasets, i.e. simmulated dataset and real PM<sub>2.5</sub> dataset to illustrate use of the library and comparison of residual and regular networks.  "
   ]
  },
  {
   "cell_type": "markdown",
   "metadata": {},
   "source": [
    "### Installation of the package \n",
    "\n",
    "    (1) You can directly install this package using the following command for the latest version:\n",
    "          pip install resautonet -U  \n",
    "    (2) You can also clone the repository and then install:\n",
    "         git clone --recursive https://github.com/lspatial/resautonet.git\n",
    "         cd resautonet \n",
    "         pip install ./setup.py install "
   ]
  },
  {
   "cell_type": "markdown",
   "metadata": {},
   "source": [
    "The following code is to import the necessary packages: "
   ]
  },
  {
   "cell_type": "code",
   "execution_count": 1,
   "metadata": {},
   "outputs": [
    {
     "name": "stderr",
     "output_type": "stream",
     "text": [
      "/usr/lib64/python3.4/importlib/_bootstrap.py:321: FutureWarning: Conversion of the second argument of issubdtype from `float` to `np.floating` is deprecated. In future, it will be treated as `np.float64 == np.dtype(float).type`.\n",
      "  return f(*args, **kwds)\n",
      "Using TensorFlow backend.\n"
     ]
    }
   ],
   "source": [
    "import numpy as np\n",
    "import numpy.random as nr\n",
    "import math\n",
    "from sklearn import preprocessing\n",
    "from sklearn.model_selection import train_test_split\n",
    "import os\n",
    "import pandas as pd \n",
    "import keras \n",
    "from keras.callbacks import ModelCheckpoint\n",
    "\n",
    "os.environ[\"CUDA_DEVICE_ORDER\"] = \"PCI_BUS_ID\"\n",
    "os.environ[\"CUDA_VISIBLE_DEVICES\"] = '1'\n",
    "\n",
    "import resautonet "
   ]
  },
  {
   "cell_type": "markdown",
   "metadata": {},
   "source": [
    "## Test 1: the simulated dataset "
   ]
  },
  {
   "cell_type": "markdown",
   "metadata": {},
   "source": [
    "The dataset is simulated using the following formula: \n",
    "    \\begin{equation}\n",
    "          y=x_1+x_2*\\sqrt{x_3}+x_4+(x_5/500)^{0.3}-x_6+\\sqrt{x_7} + x_8 + \\epsilon\n",
    "     \\end{equation}\n",
    "each covariate defined as:\n",
    "\\begin{equation}\n",
    "       x_1 \\sim U(1,100), x_2 \\sim U(0,100), x_3 \\sim U(1,10), x_4 \\sim U(1,100),  \n",
    "       x_5 \\sim U(9,100),x_6 \\sim U(1,1009),x_7 \\sim U(5,300),x_8~U(6 \\sim 200)\n",
    "\\end{equation}\n",
    "\n",
    "Use the following function to generate the simulated dataset: "
   ]
  },
  {
   "cell_type": "code",
   "execution_count": 2,
   "metadata": {},
   "outputs": [
    {
     "data": {
      "text/html": [
       "<div>\n",
       "<style scoped>\n",
       "    .dataframe tbody tr th:only-of-type {\n",
       "        vertical-align: middle;\n",
       "    }\n",
       "\n",
       "    .dataframe tbody tr th {\n",
       "        vertical-align: top;\n",
       "    }\n",
       "\n",
       "    .dataframe thead th {\n",
       "        text-align: right;\n",
       "    }\n",
       "</style>\n",
       "<table border=\"1\" class=\"dataframe\">\n",
       "  <thead>\n",
       "    <tr style=\"text-align: right;\">\n",
       "      <th></th>\n",
       "      <th>x1</th>\n",
       "      <th>x2</th>\n",
       "      <th>x3</th>\n",
       "      <th>x4</th>\n",
       "      <th>x5</th>\n",
       "      <th>x6</th>\n",
       "      <th>x7</th>\n",
       "      <th>x8</th>\n",
       "      <th>y</th>\n",
       "    </tr>\n",
       "  </thead>\n",
       "  <tbody>\n",
       "    <tr>\n",
       "      <th>0</th>\n",
       "      <td>61.352888</td>\n",
       "      <td>98.650301</td>\n",
       "      <td>6.458567</td>\n",
       "      <td>25.058539</td>\n",
       "      <td>17.909715</td>\n",
       "      <td>447.422895</td>\n",
       "      <td>132.946732</td>\n",
       "      <td>146.852385</td>\n",
       "      <td>202.549117</td>\n",
       "    </tr>\n",
       "    <tr>\n",
       "      <th>1</th>\n",
       "      <td>6.994791</td>\n",
       "      <td>51.456171</td>\n",
       "      <td>2.105735</td>\n",
       "      <td>51.649147</td>\n",
       "      <td>26.575460</td>\n",
       "      <td>114.674527</td>\n",
       "      <td>259.205695</td>\n",
       "      <td>95.805720</td>\n",
       "      <td>76.062847</td>\n",
       "    </tr>\n",
       "    <tr>\n",
       "      <th>2</th>\n",
       "      <td>13.685065</td>\n",
       "      <td>80.172151</td>\n",
       "      <td>6.590211</td>\n",
       "      <td>85.191893</td>\n",
       "      <td>74.691194</td>\n",
       "      <td>810.343415</td>\n",
       "      <td>101.088590</td>\n",
       "      <td>31.447991</td>\n",
       "      <td>-432.972966</td>\n",
       "    </tr>\n",
       "    <tr>\n",
       "      <th>3</th>\n",
       "      <td>4.758604</td>\n",
       "      <td>58.519233</td>\n",
       "      <td>6.962512</td>\n",
       "      <td>9.208707</td>\n",
       "      <td>35.137663</td>\n",
       "      <td>881.411676</td>\n",
       "      <td>144.520525</td>\n",
       "      <td>122.706545</td>\n",
       "      <td>-470.152339</td>\n",
       "    </tr>\n",
       "    <tr>\n",
       "      <th>4</th>\n",
       "      <td>33.517461</td>\n",
       "      <td>66.136145</td>\n",
       "      <td>5.418776</td>\n",
       "      <td>51.991921</td>\n",
       "      <td>78.219501</td>\n",
       "      <td>538.206793</td>\n",
       "      <td>86.859919</td>\n",
       "      <td>86.416299</td>\n",
       "      <td>-297.210939</td>\n",
       "    </tr>\n",
       "  </tbody>\n",
       "</table>\n",
       "</div>"
      ],
      "text/plain": [
       "          x1         x2        x3         x4         x5          x6  \\\n",
       "0  61.352888  98.650301  6.458567  25.058539  17.909715  447.422895   \n",
       "1   6.994791  51.456171  2.105735  51.649147  26.575460  114.674527   \n",
       "2  13.685065  80.172151  6.590211  85.191893  74.691194  810.343415   \n",
       "3   4.758604  58.519233  6.962512   9.208707  35.137663  881.411676   \n",
       "4  33.517461  66.136145  5.418776  51.991921  78.219501  538.206793   \n",
       "\n",
       "           x7          x8           y  \n",
       "0  132.946732  146.852385  202.549117  \n",
       "1  259.205695   95.805720   76.062847  \n",
       "2  101.088590   31.447991 -432.972966  \n",
       "3  144.520525  122.706545 -470.152339  \n",
       "4   86.859919   86.416299 -297.210939  "
      ]
     },
     "execution_count": 2,
     "metadata": {},
     "output_type": "execute_result"
    }
   ],
   "source": [
    "simdata=resautonet.simData()\n",
    "simdata.head()"
   ]
  },
  {
   "cell_type": "markdown",
   "metadata": {},
   "source": [
    "You can also load the dataset existing in the package for a test: "
   ]
  },
  {
   "cell_type": "code",
   "execution_count": 3,
   "metadata": {},
   "outputs": [
    {
     "data": {
      "text/html": [
       "<div>\n",
       "<style scoped>\n",
       "    .dataframe tbody tr th:only-of-type {\n",
       "        vertical-align: middle;\n",
       "    }\n",
       "\n",
       "    .dataframe tbody tr th {\n",
       "        vertical-align: top;\n",
       "    }\n",
       "\n",
       "    .dataframe thead th {\n",
       "        text-align: right;\n",
       "    }\n",
       "</style>\n",
       "<table border=\"1\" class=\"dataframe\">\n",
       "  <thead>\n",
       "    <tr style=\"text-align: right;\">\n",
       "      <th></th>\n",
       "      <th>x1</th>\n",
       "      <th>x2</th>\n",
       "      <th>x3</th>\n",
       "      <th>x4</th>\n",
       "      <th>x5</th>\n",
       "      <th>x6</th>\n",
       "      <th>x7</th>\n",
       "      <th>x8</th>\n",
       "      <th>y</th>\n",
       "    </tr>\n",
       "    <tr>\n",
       "      <th>index</th>\n",
       "      <th></th>\n",
       "      <th></th>\n",
       "      <th></th>\n",
       "      <th></th>\n",
       "      <th></th>\n",
       "      <th></th>\n",
       "      <th></th>\n",
       "      <th></th>\n",
       "      <th></th>\n",
       "    </tr>\n",
       "  </thead>\n",
       "  <tbody>\n",
       "    <tr>\n",
       "      <th>0</th>\n",
       "      <td>5.913603</td>\n",
       "      <td>7.856468</td>\n",
       "      <td>7.676701</td>\n",
       "      <td>59.488758</td>\n",
       "      <td>69.569988</td>\n",
       "      <td>182.941587</td>\n",
       "      <td>191.963120</td>\n",
       "      <td>87.314893</td>\n",
       "      <td>13.934329</td>\n",
       "    </tr>\n",
       "    <tr>\n",
       "      <th>1</th>\n",
       "      <td>43.977562</td>\n",
       "      <td>85.455399</td>\n",
       "      <td>8.209722</td>\n",
       "      <td>15.106148</td>\n",
       "      <td>46.131332</td>\n",
       "      <td>768.770945</td>\n",
       "      <td>197.264480</td>\n",
       "      <td>136.956539</td>\n",
       "      <td>-205.813208</td>\n",
       "    </tr>\n",
       "    <tr>\n",
       "      <th>2</th>\n",
       "      <td>78.462677</td>\n",
       "      <td>7.745484</td>\n",
       "      <td>5.766864</td>\n",
       "      <td>75.614158</td>\n",
       "      <td>33.145528</td>\n",
       "      <td>839.338362</td>\n",
       "      <td>149.268020</td>\n",
       "      <td>128.706578</td>\n",
       "      <td>-629.562431</td>\n",
       "    </tr>\n",
       "    <tr>\n",
       "      <th>3</th>\n",
       "      <td>30.656661</td>\n",
       "      <td>99.536410</td>\n",
       "      <td>9.184463</td>\n",
       "      <td>94.195816</td>\n",
       "      <td>99.443974</td>\n",
       "      <td>436.162144</td>\n",
       "      <td>67.876023</td>\n",
       "      <td>156.864481</td>\n",
       "      <td>194.970310</td>\n",
       "    </tr>\n",
       "    <tr>\n",
       "      <th>4</th>\n",
       "      <td>34.247640</td>\n",
       "      <td>83.544456</td>\n",
       "      <td>5.030490</td>\n",
       "      <td>16.033990</td>\n",
       "      <td>79.278488</td>\n",
       "      <td>553.426601</td>\n",
       "      <td>31.581614</td>\n",
       "      <td>124.261841</td>\n",
       "      <td>-212.494467</td>\n",
       "    </tr>\n",
       "  </tbody>\n",
       "</table>\n",
       "</div>"
      ],
      "text/plain": [
       "              x1         x2        x3         x4         x5          x6  \\\n",
       "index                                                                     \n",
       "0       5.913603   7.856468  7.676701  59.488758  69.569988  182.941587   \n",
       "1      43.977562  85.455399  8.209722  15.106148  46.131332  768.770945   \n",
       "2      78.462677   7.745484  5.766864  75.614158  33.145528  839.338362   \n",
       "3      30.656661  99.536410  9.184463  94.195816  99.443974  436.162144   \n",
       "4      34.247640  83.544456  5.030490  16.033990  79.278488  553.426601   \n",
       "\n",
       "               x7          x8           y  \n",
       "index                                      \n",
       "0      191.963120   87.314893   13.934329  \n",
       "1      197.264480  136.956539 -205.813208  \n",
       "2      149.268020  128.706578 -629.562431  \n",
       "3       67.876023  156.864481  194.970310  \n",
       "4       31.581614  124.261841 -212.494467  "
      ]
     },
     "execution_count": 3,
     "metadata": {},
     "output_type": "execute_result"
    }
   ],
   "source": [
    "simdata=resautonet.data('sim')\n",
    "simdata.head()"
   ]
  },
  {
   "cell_type": "markdown",
   "metadata": {},
   "source": [
    "Then the pandas's data frame is converted into the numpy array for the models: "
   ]
  },
  {
   "cell_type": "code",
   "execution_count": 4,
   "metadata": {},
   "outputs": [],
   "source": [
    "tcol=['x'+str(i) for i in range(1,9)]\n",
    "X=simdata[tcol].values \n",
    "y=simdata['y'].values\n",
    "y=y.reshape((y.shape[0],1))"
   ]
  },
  {
   "cell_type": "markdown",
   "metadata": {},
   "source": [
    "The data is normalized using the tool of standard scaler: "
   ]
  },
  {
   "cell_type": "code",
   "execution_count": 5,
   "metadata": {},
   "outputs": [
    {
     "name": "stdout",
     "output_type": "stream",
     "text": [
      "-943.1592199858045 663.3099522511869\n"
     ]
    }
   ],
   "source": [
    "scX = preprocessing.StandardScaler().fit(X)\n",
    "scy = preprocessing.StandardScaler().fit(y)\n",
    "Xn=scX.transform(X)\n",
    "yn=scy.transform(y)\n",
    "print(np.min(y),np.max(y))"
   ]
  },
  {
   "cell_type": "markdown",
   "metadata": {},
   "source": [
    "Then, the dataset's samples are separated into three parts, training, validation and test:"
   ]
  },
  {
   "cell_type": "code",
   "execution_count": 6,
   "metadata": {},
   "outputs": [
    {
     "name": "stdout",
     "output_type": "stream",
     "text": [
      "(768, 8) (192, 8) (768, 1) (192, 1)\n"
     ]
    }
   ],
   "source": [
    "x_train, x_test, y_train,y_test = train_test_split(Xn,yn,\n",
    "                                      test_size=0.2)\n",
    "x_train, x_valid, y_train,y_valid = train_test_split(x_train,y_train,\n",
    "                                      test_size=0.2)\n",
    "print(x_train.shape,x_valid.shape,y_train.shape,y_valid.shape)"
   ]
  },
  {
   "cell_type": "markdown",
   "metadata": {},
   "source": [
    "Call the major class,  resAutoencoder from resautonet to obtain the network. \n",
    "Critical network parameters: \n",
    "        * nfea: 8 ; \n",
    "        * layernNodes: [32,16,8,4] ;\n",
    "        * acts: 'relu';\n",
    "        * extranOutput: 1 ;\n",
    "        * batchnorm: True ;\n",
    "        * reg:  L1 and L2 ;\n",
    "        * inresidual: True (residual network);\n",
    "        * defact: 'tanh' ;\n",
    "        * outputtype: 0, just the target variable to be output. "
   ]
  },
  {
   "cell_type": "code",
   "execution_count": 7,
   "metadata": {},
   "outputs": [
    {
     "name": "stdout",
     "output_type": "stream",
     "text": [
      "__________________________________________________________________________________________________\n",
      "Layer (type)                    Output Shape         Param #     Connected to                     \n",
      "==================================================================================================\n",
      "feat (InputLayer)               (None, 8)            0                                            \n",
      "__________________________________________________________________________________________________\n",
      "dense_1 (Dense)                 (None, 32)           288         feat[0][0]                       \n",
      "__________________________________________________________________________________________________\n",
      "batch_normalization_1 (BatchNor (None, 32)           128         dense_1[0][0]                    \n",
      "__________________________________________________________________________________________________\n",
      "activation_1 (Activation)       (None, 32)           0           batch_normalization_1[0][0]      \n",
      "__________________________________________________________________________________________________\n",
      "batch_normalization_2 (BatchNor (None, 32)           128         activation_1[0][0]               \n",
      "__________________________________________________________________________________________________\n",
      "dense_2 (Dense)                 (None, 16)           528         batch_normalization_2[0][0]      \n",
      "__________________________________________________________________________________________________\n",
      "batch_normalization_3 (BatchNor (None, 16)           64          dense_2[0][0]                    \n",
      "__________________________________________________________________________________________________\n",
      "activation_2 (Activation)       (None, 16)           0           batch_normalization_3[0][0]      \n",
      "__________________________________________________________________________________________________\n",
      "batch_normalization_4 (BatchNor (None, 16)           64          activation_2[0][0]               \n",
      "__________________________________________________________________________________________________\n",
      "dense_3 (Dense)                 (None, 8)            136         batch_normalization_4[0][0]      \n",
      "__________________________________________________________________________________________________\n",
      "batch_normalization_5 (BatchNor (None, 8)            32          dense_3[0][0]                    \n",
      "__________________________________________________________________________________________________\n",
      "activation_3 (Activation)       (None, 8)            0           batch_normalization_5[0][0]      \n",
      "__________________________________________________________________________________________________\n",
      "batch_normalization_6 (BatchNor (None, 8)            32          activation_3[0][0]               \n",
      "__________________________________________________________________________________________________\n",
      "dense_4 (Dense)                 (None, 4)            36          batch_normalization_6[0][0]      \n",
      "__________________________________________________________________________________________________\n",
      "batch_normalization_7 (BatchNor (None, 4)            16          dense_4[0][0]                    \n",
      "__________________________________________________________________________________________________\n",
      "activation_4 (Activation)       (None, 4)            0           batch_normalization_7[0][0]      \n",
      "__________________________________________________________________________________________________\n",
      "batch_normalization_8 (BatchNor (None, 4)            16          activation_4[0][0]               \n",
      "__________________________________________________________________________________________________\n",
      "dropout_1 (Dropout)             (None, 4)            0           batch_normalization_8[0][0]      \n",
      "__________________________________________________________________________________________________\n",
      "dense_5 (Dense)                 (None, 8)            40          dropout_1[0][0]                  \n",
      "__________________________________________________________________________________________________\n",
      "batch_normalization_9 (BatchNor (None, 8)            32          dense_5[0][0]                    \n",
      "__________________________________________________________________________________________________\n",
      "activation_5 (Activation)       (None, 8)            0           batch_normalization_9[0][0]      \n",
      "__________________________________________________________________________________________________\n",
      "batch_normalization_10 (BatchNo (None, 8)            32          activation_5[0][0]               \n",
      "__________________________________________________________________________________________________\n",
      "add_1 (Add)                     (None, 8)            0           batch_normalization_6[0][0]      \n",
      "                                                                 batch_normalization_10[0][0]     \n",
      "__________________________________________________________________________________________________\n",
      "batch_normalization_11 (BatchNo (None, 8)            32          add_1[0][0]                      \n",
      "__________________________________________________________________________________________________\n",
      "activation_6 (Activation)       (None, 8)            0           batch_normalization_11[0][0]     \n",
      "__________________________________________________________________________________________________\n",
      "dense_6 (Dense)                 (None, 16)           144         activation_6[0][0]               \n",
      "__________________________________________________________________________________________________\n",
      "batch_normalization_12 (BatchNo (None, 16)           64          dense_6[0][0]                    \n",
      "__________________________________________________________________________________________________\n",
      "activation_7 (Activation)       (None, 16)           0           batch_normalization_12[0][0]     \n",
      "__________________________________________________________________________________________________\n",
      "batch_normalization_13 (BatchNo (None, 16)           64          activation_7[0][0]               \n",
      "__________________________________________________________________________________________________\n",
      "add_2 (Add)                     (None, 16)           0           batch_normalization_4[0][0]      \n",
      "                                                                 batch_normalization_13[0][0]     \n",
      "__________________________________________________________________________________________________\n",
      "batch_normalization_14 (BatchNo (None, 16)           64          add_2[0][0]                      \n",
      "__________________________________________________________________________________________________\n",
      "activation_8 (Activation)       (None, 16)           0           batch_normalization_14[0][0]     \n",
      "__________________________________________________________________________________________________\n",
      "dense_7 (Dense)                 (None, 32)           544         activation_8[0][0]               \n",
      "__________________________________________________________________________________________________\n",
      "batch_normalization_15 (BatchNo (None, 32)           128         dense_7[0][0]                    \n",
      "__________________________________________________________________________________________________\n",
      "activation_9 (Activation)       (None, 32)           0           batch_normalization_15[0][0]     \n",
      "__________________________________________________________________________________________________\n",
      "batch_normalization_16 (BatchNo (None, 32)           128         activation_9[0][0]               \n",
      "__________________________________________________________________________________________________\n",
      "add_3 (Add)                     (None, 32)           0           batch_normalization_2[0][0]      \n",
      "                                                                 batch_normalization_16[0][0]     \n",
      "__________________________________________________________________________________________________\n",
      "batch_normalization_17 (BatchNo (None, 32)           128         add_3[0][0]                      \n",
      "__________________________________________________________________________________________________\n",
      "activation_10 (Activation)      (None, 32)           0           batch_normalization_17[0][0]     \n",
      "__________________________________________________________________________________________________\n",
      "dense_8 (Dense)                 (None, 8)            264         activation_10[0][0]              \n",
      "__________________________________________________________________________________________________\n",
      "activation_11 (Activation)      (None, 8)            0           dense_8[0][0]                    \n",
      "__________________________________________________________________________________________________\n",
      "batch_normalization_18 (BatchNo (None, 8)            32          activation_11[0][0]              \n",
      "__________________________________________________________________________________________________\n",
      "add_4 (Add)                     (None, 8)            0           feat[0][0]                       \n",
      "                                                                 batch_normalization_18[0][0]     \n",
      "__________________________________________________________________________________________________\n",
      "activation_12 (Activation)      (None, 8)            0           add_4[0][0]                      \n",
      "__________________________________________________________________________________________________\n",
      "batch_normalization_19 (BatchNo (None, 8)            32          activation_12[0][0]              \n",
      "__________________________________________________________________________________________________\n",
      "dense_9 (Dense)                 (None, 1)            9           batch_normalization_19[0][0]     \n",
      "==================================================================================================\n",
      "Total params: 3,205\n",
      "Trainable params: 2,597\n",
      "Non-trainable params: 608\n",
      "__________________________________________________________________________________________________\n"
     ]
    }
   ],
   "source": [
    "from resautonet.model import r2KAuto,r2K\n",
    "#Set the path to save the model's parameters \n",
    "wtPath='/tmp/res_sim_wei.hdf5'\n",
    "# Set the check point to check the validation \n",
    "checkpointw=ModelCheckpoint(wtPath, monitor=\"loss\",verbose=0, save_best_only=True, mode=\"min\")\n",
    "#Call the model class \n",
    "modelCls = resautonet.model.resAutoencoder(x_train.shape[1], [32,16,8,4],'relu',1,inresidual=True,reg=keras.regularizers.l1_l2(0),\n",
    "                          batchnorm=True,outnres=None,defact='linear',outputtype=0)\n",
    "#Get the residual autoencoder network \n",
    "resmodel = modelCls.resAutoNet()\n",
    "#Show the network model's topology \n",
    "resmodel.summary()\n",
    "#Complie the network model \n",
    "resmodel.compile(optimizer=\"adam\", loss= 'mean_squared_error',#mean_squared_error bce_dice_loss, #jaccard_coef_loss, jaccardent_coef_loss1\n",
    "      metrics=['mean_squared_error',r2KAuto,r2K])\n"
   ]
  },
  {
   "cell_type": "code",
   "execution_count": 8,
   "metadata": {
    "scrolled": true
   },
   "outputs": [],
   "source": [
    "#Starting to train the model... ... \n",
    "fhist_res=resmodel.fit(x_train, y_train, batch_size=128, epochs=200, verbose=0, shuffle=True,\n",
    "           validation_data=(x_valid, y_valid),callbacks=[checkpointw])"
   ]
  },
  {
   "cell_type": "markdown",
   "metadata": {},
   "source": [
    "Test the independent dataset using the trained model. RMSE and Rsquared are used as the metrics.  "
   ]
  },
  {
   "cell_type": "code",
   "execution_count": 9,
   "metadata": {},
   "outputs": [
    {
     "name": "stdout",
     "output_type": "stream",
     "text": [
      "indepdendent test for residual deep network: r2- 0.8597980628880261 rmse: 118.06089494727486\n"
     ]
    }
   ],
   "source": [
    "from resautonet.model import rsquared, rmse \n",
    "resmodel.load_weights(wtPath)\n",
    "resmodel.compile(optimizer=\"adam\", loss= 'mean_squared_error',  metrics=['mean_squared_error',r2KAuto,r2K])\n",
    "y_test_pred=resmodel.predict(x_test)\n",
    "\n",
    "obs=scy.inverse_transform(y_test[:,-1])\n",
    "preres=scy.inverse_transform(y_test_pred[:,-1])\n",
    "\n",
    "r2_res=rsquared(obs,preres)\n",
    "rmse_res=rmse(obs,preres)\n",
    "print(\"indepdendent test for residual deep network: r2-\",r2_res,\"rmse:\",rmse_res)"
   ]
  },
  {
   "cell_type": "markdown",
   "metadata": {},
   "source": [
    "Call the major class,  resAutoencoder from resautonet to obtain the network without residual connection, i.e. regular autoencoder deep network bying setting the argument of inresidual as False (the other arguments are the same):  "
   ]
  },
  {
   "cell_type": "code",
   "execution_count": 10,
   "metadata": {},
   "outputs": [
    {
     "name": "stdout",
     "output_type": "stream",
     "text": [
      "_________________________________________________________________\n",
      "Layer (type)                 Output Shape              Param #   \n",
      "=================================================================\n",
      "feat (InputLayer)            (None, 8)                 0         \n",
      "_________________________________________________________________\n",
      "dense_10 (Dense)             (None, 32)                288       \n",
      "_________________________________________________________________\n",
      "batch_normalization_20 (Batc (None, 32)                128       \n",
      "_________________________________________________________________\n",
      "activation_13 (Activation)   (None, 32)                0         \n",
      "_________________________________________________________________\n",
      "batch_normalization_21 (Batc (None, 32)                128       \n",
      "_________________________________________________________________\n",
      "dense_11 (Dense)             (None, 16)                528       \n",
      "_________________________________________________________________\n",
      "batch_normalization_22 (Batc (None, 16)                64        \n",
      "_________________________________________________________________\n",
      "activation_14 (Activation)   (None, 16)                0         \n",
      "_________________________________________________________________\n",
      "batch_normalization_23 (Batc (None, 16)                64        \n",
      "_________________________________________________________________\n",
      "dense_12 (Dense)             (None, 8)                 136       \n",
      "_________________________________________________________________\n",
      "batch_normalization_24 (Batc (None, 8)                 32        \n",
      "_________________________________________________________________\n",
      "activation_15 (Activation)   (None, 8)                 0         \n",
      "_________________________________________________________________\n",
      "batch_normalization_25 (Batc (None, 8)                 32        \n",
      "_________________________________________________________________\n",
      "dense_13 (Dense)             (None, 4)                 36        \n",
      "_________________________________________________________________\n",
      "batch_normalization_26 (Batc (None, 4)                 16        \n",
      "_________________________________________________________________\n",
      "activation_16 (Activation)   (None, 4)                 0         \n",
      "_________________________________________________________________\n",
      "batch_normalization_27 (Batc (None, 4)                 16        \n",
      "_________________________________________________________________\n",
      "dropout_2 (Dropout)          (None, 4)                 0         \n",
      "_________________________________________________________________\n",
      "dense_14 (Dense)             (None, 8)                 40        \n",
      "_________________________________________________________________\n",
      "batch_normalization_28 (Batc (None, 8)                 32        \n",
      "_________________________________________________________________\n",
      "activation_17 (Activation)   (None, 8)                 0         \n",
      "_________________________________________________________________\n",
      "batch_normalization_29 (Batc (None, 8)                 32        \n",
      "_________________________________________________________________\n",
      "dense_15 (Dense)             (None, 16)                144       \n",
      "_________________________________________________________________\n",
      "batch_normalization_30 (Batc (None, 16)                64        \n",
      "_________________________________________________________________\n",
      "activation_18 (Activation)   (None, 16)                0         \n",
      "_________________________________________________________________\n",
      "batch_normalization_31 (Batc (None, 16)                64        \n",
      "_________________________________________________________________\n",
      "dense_16 (Dense)             (None, 32)                544       \n",
      "_________________________________________________________________\n",
      "batch_normalization_32 (Batc (None, 32)                128       \n",
      "_________________________________________________________________\n",
      "activation_19 (Activation)   (None, 32)                0         \n",
      "_________________________________________________________________\n",
      "batch_normalization_33 (Batc (None, 32)                128       \n",
      "_________________________________________________________________\n",
      "dense_17 (Dense)             (None, 8)                 264       \n",
      "_________________________________________________________________\n",
      "activation_20 (Activation)   (None, 8)                 0         \n",
      "_________________________________________________________________\n",
      "batch_normalization_34 (Batc (None, 8)                 32        \n",
      "_________________________________________________________________\n",
      "dense_18 (Dense)             (None, 1)                 9         \n",
      "=================================================================\n",
      "Total params: 2,949\n",
      "Trainable params: 2,469\n",
      "Non-trainable params: 480\n",
      "_________________________________________________________________\n"
     ]
    }
   ],
   "source": [
    "wtPath_no='/tmp/nores_sim_wei.hdf5'\n",
    "checkpointw=ModelCheckpoint(wtPath, monitor=\"loss\",verbose=0, save_best_only=True, mode=\"min\")\n",
    "    \n",
    "modelCls =resautonet.model.resAutoencoder(x_train.shape[1], [32,16,8,4],'relu',1,inresidual=False,reg=keras.regularizers.l1_l2(0),\n",
    "                          batchnorm=True,outnres=None,defact='linear',outputtype=0)\n",
    "noresmodel = modelCls.resAutoNet()\n",
    "noresmodel.summary()\n",
    "noresmodel.compile(optimizer=\"adam\", loss= 'mean_squared_error',#mean_squared_error bce_dice_loss, #jaccard_coef_loss, jaccardent_coef_loss1\n",
    "      metrics=['mean_squared_error',r2KAuto,r2K])"
   ]
  },
  {
   "cell_type": "code",
   "execution_count": 11,
   "metadata": {
    "scrolled": true
   },
   "outputs": [],
   "source": [
    "#Train the regular network \n",
    "fhist_nores=noresmodel.fit(x_train, y_train, batch_size=64, epochs=200, verbose=0, shuffle=True,\n",
    "           validation_data=(x_valid, y_valid),callbacks=[checkpointw])"
   ]
  },
  {
   "cell_type": "code",
   "execution_count": 12,
   "metadata": {},
   "outputs": [
    {
     "name": "stdout",
     "output_type": "stream",
     "text": [
      "indepdendent test for regular autoencoder network: r2- 0.7192458074526653 rmse: 167.06758280917833\n"
     ]
    }
   ],
   "source": [
    "noresmodel.load_weights(wtPath_no)\n",
    "noresmodel.compile(optimizer=\"adam\", loss= 'mean_squared_error',  metrics=['mean_squared_error',r2KAuto,r2K])\n",
    "y_test_pred=noresmodel.predict(x_test)\n",
    "\n",
    "obs=scy.inverse_transform(y_test[:,-1])\n",
    "prenores=scy.inverse_transform(y_test_pred[:,-1])\n",
    "\n",
    "r2_nores=rsquared(obs,prenores)\n",
    "rmse_nores=rmse(obs,prenores)\n",
    "print(\"indepdendent test for regular autoencoder network: r2-\",r2_nores,\"rmse:\",rmse_nores)"
   ]
  },
  {
   "cell_type": "markdown",
   "metadata": {},
   "source": [
    "Then compare the scatter plots of residual deep network and regular network to see the difference in the distributions of their predictions : "
   ]
  },
  {
   "cell_type": "code",
   "execution_count": 13,
   "metadata": {},
   "outputs": [],
   "source": [
    "import matplotlib.pyplot as plt\n",
    "%matplotlib inline\n",
    "\n",
    "def connectpoints(x,y,p1,p2):\n",
    "    x1, x2 = x[p1], x[p2]\n",
    "    y1, y2 = y[p1], y[p2]\n",
    "    plt.plot([x1,x2],[y1,y2],'k-')"
   ]
  },
  {
   "cell_type": "code",
   "execution_count": 14,
   "metadata": {},
   "outputs": [
    {
     "data": {
      "image/png": "[encoded data removed]",
      "text/plain": [
       "<Figure size 960x320 with 2 Axes>"
      ]
     },
     "metadata": {},
     "output_type": "display_data"
    }
   ],
   "source": [
    "plt.figure(num=None, figsize=(12,4), dpi=80, facecolor='w', edgecolor='k')\n",
    "plt.subplot(121)\n",
    "plt.scatter(obs,prenores)\n",
    "plt.xlim(-1100,700)\n",
    "plt.ylim(-1100,700)\n",
    "#plt.axis('equal')\n",
    "plt.title(\"$\\mathregular{R^2}$=\"+str(np.round(r2_nores,2)))\n",
    "plt.xlabel(\"a. Simulated (ground truth) values\")\n",
    "plt.ylabel('Predicted values (regular net)')\n",
    "x=[-1100 , 700]\n",
    "y=[ -1100, 700]\n",
    "connectpoints(x,y,0,1)\n",
    "plt.subplot(122)\n",
    "plt.scatter(obs,preres)\n",
    "plt.xlim(-1100,700)\n",
    "plt.ylim(-1100,700)\n",
    "#plt.axis('equal')\n",
    "plt.title(\"$\\mathregular{R^2}$=\"+str(np.round(r2_res,2)))\n",
    "plt.xlabel(\"b. Simulated (ground truth) values\")\n",
    "plt.ylabel('Predicted values (residual net)')\n",
    "x=[-1100 , 700]\n",
    "y=[ -1100, 700]\n",
    "connectpoints(x,y,0,1)\n",
    "plt.show()"
   ]
  },
  {
   "cell_type": "markdown",
   "metadata": {},
   "source": [
    "Compare the training curves of RMSE and R<sup>2</sup>  of residual deep network to check the difference in convergence and training efficiency: "
   ]
  },
  {
   "cell_type": "code",
   "execution_count": 15,
   "metadata": {},
   "outputs": [],
   "source": [
    "rhDf_nores=pd.DataFrame(fhist_nores.history) \n",
    "rhDf_res=pd.DataFrame(fhist_res.history) \n",
    "rhDf_nores['epoch']=pd.Series(np.arange(1,len(rhDf_nores)+1))\n",
    "rhDf_res['epoch']=pd.Series(np.arange(1,len(rhDf_res)+1))"
   ]
  },
  {
   "cell_type": "code",
   "execution_count": 16,
   "metadata": {},
   "outputs": [
    {
     "data": {
      "image/png": "[encoded data removed]",
      "text/plain": [
       "<Figure size 960x320 with 2 Axes>"
      ]
     },
     "metadata": {},
     "output_type": "display_data"
    }
   ],
   "source": [
    "plt.figure(num=None, figsize=(12,4), dpi=80, facecolor='w', edgecolor='k')\n",
    "plt.subplot(121)\n",
    "plt.plot( 'epoch', 'mean_squared_error', data=rhDf_nores, marker='', markerfacecolor='blue', markersize=12, color='blue', linewidth=2,label='Re train')\n",
    "plt.plot( 'epoch', 'val_mean_squared_error', data=rhDf_nores, marker='', color='blue', linewidth=2,linestyle='dashed',label=\"Re validation\")\n",
    "plt.plot( 'epoch', 'mean_squared_error', data=rhDf_res,marker='', color='black', linewidth=2, label=\"Res train\")\n",
    "plt.plot( 'epoch', 'val_mean_squared_error', data=rhDf_res,marker='', color='black', linewidth=2, linestyle='dashed', label=\"Res validation\")\n",
    "plt.legend()\n",
    "plt.xlabel('a. Epoch')\n",
    "plt.ylabel('Mean_squared_error')\n",
    "plt.subplot(122)\n",
    "plt.plot( 'epoch', 'r2KAuto', data=rhDf_nores, marker='', markerfacecolor='blue', markersize=12, color='blue', linewidth=2,label='Re train')\n",
    "plt.plot( 'epoch', 'val_r2KAuto', data=rhDf_nores, marker='', color='blue', linewidth=2,linestyle='dashed',label=\"Re validation\")\n",
    "plt.plot( 'epoch', 'r2KAuto', data=rhDf_res,marker='', color='black', linewidth=2, label=\"Res train\")\n",
    "plt.plot( 'epoch', 'val_r2KAuto', data=rhDf_res,marker='', color='black', linewidth=2, linestyle='dashed', label=\"Res validation\")\n",
    "plt.legend()\n",
    "plt.xlabel('b. Epoch')\n",
    "plt.ylabel(r'$\\mathregular{R^2}$') \n",
    "plt.show()"
   ]
  },
  {
   "cell_type": "markdown",
   "metadata": {},
   "source": [
    "## Test 2: real PM<sub>2.5</sub> dataset and relevant covariates for the Beijing-Tianjin_Tangshan area"
   ]
  },
  {
   "cell_type": "markdown",
   "metadata": {},
   "source": [
    " This dataset is the real dataset of the 2015 PM<sub>2.5</sub> and the relevant covariates for the Beijing-Tianjin-Tangshan area. It is sampled by the fraction of 0.8 from the  original dataset (stratified by the julian day). \n",
    "<img  align=\"left\" src=\"figs/fig2.png\" width=\"800\"  height=\"550\"  hspace=\"10\"/>"
   ]
  },
  {
   "cell_type": "markdown",
   "metadata": {},
   "source": [
    "First, load the dataset as pandas's DataFrame: "
   ]
  },
  {
   "cell_type": "code",
   "execution_count": 17,
   "metadata": {},
   "outputs": [
    {
     "data": {
      "text/html": [
       "<div>\n",
       "<style scoped>\n",
       "    .dataframe tbody tr th:only-of-type {\n",
       "        vertical-align: middle;\n",
       "    }\n",
       "\n",
       "    .dataframe tbody tr th {\n",
       "        vertical-align: top;\n",
       "    }\n",
       "\n",
       "    .dataframe thead th {\n",
       "        text-align: right;\n",
       "    }\n",
       "</style>\n",
       "<table border=\"1\" class=\"dataframe\">\n",
       "  <thead>\n",
       "    <tr style=\"text-align: right;\">\n",
       "      <th></th>\n",
       "      <th>sites</th>\n",
       "      <th>site_name</th>\n",
       "      <th>city</th>\n",
       "      <th>lon</th>\n",
       "      <th>lat</th>\n",
       "      <th>pm25_davg</th>\n",
       "      <th>ele</th>\n",
       "      <th>prs</th>\n",
       "      <th>tem</th>\n",
       "      <th>rhu</th>\n",
       "      <th>...</th>\n",
       "      <th>aod</th>\n",
       "      <th>date</th>\n",
       "      <th>haod</th>\n",
       "      <th>shaod</th>\n",
       "      <th>jd</th>\n",
       "      <th>pblh_re</th>\n",
       "      <th>pre_re</th>\n",
       "      <th>o3_re</th>\n",
       "      <th>merra2_re</th>\n",
       "      <th>month</th>\n",
       "    </tr>\n",
       "    <tr>\n",
       "      <th>index</th>\n",
       "      <th></th>\n",
       "      <th></th>\n",
       "      <th></th>\n",
       "      <th></th>\n",
       "      <th></th>\n",
       "      <th></th>\n",
       "      <th></th>\n",
       "      <th></th>\n",
       "      <th></th>\n",
       "      <th></th>\n",
       "      <th></th>\n",
       "      <th></th>\n",
       "      <th></th>\n",
       "      <th></th>\n",
       "      <th></th>\n",
       "      <th></th>\n",
       "      <th></th>\n",
       "      <th></th>\n",
       "      <th></th>\n",
       "      <th></th>\n",
       "      <th></th>\n",
       "    </tr>\n",
       "  </thead>\n",
       "  <tbody>\n",
       "    <tr>\n",
       "      <th>0</th>\n",
       "      <td>榆垡</td>\n",
       "      <td>京南榆垡，京南区域点</td>\n",
       "      <td>北京</td>\n",
       "      <td>116.300</td>\n",
       "      <td>39.520</td>\n",
       "      <td>96.160870</td>\n",
       "      <td>18</td>\n",
       "      <td>1020.244080</td>\n",
       "      <td>-0.003921</td>\n",
       "      <td>36.598670</td>\n",
       "      <td>...</td>\n",
       "      <td>0.242638</td>\n",
       "      <td>2015-01-01</td>\n",
       "      <td>0.001804</td>\n",
       "      <td>0.001144</td>\n",
       "      <td>1</td>\n",
       "      <td>134.486526</td>\n",
       "      <td>1.871046e-15</td>\n",
       "      <td>322.445557</td>\n",
       "      <td>0.138301</td>\n",
       "      <td>1</td>\n",
       "    </tr>\n",
       "    <tr>\n",
       "      <th>1</th>\n",
       "      <td>西直门北</td>\n",
       "      <td>西直门北大街，西直门交通点</td>\n",
       "      <td>北京</td>\n",
       "      <td>116.349</td>\n",
       "      <td>39.954</td>\n",
       "      <td>48.430435</td>\n",
       "      <td>55</td>\n",
       "      <td>1015.730225</td>\n",
       "      <td>-0.432289</td>\n",
       "      <td>35.865617</td>\n",
       "      <td>...</td>\n",
       "      <td>0.222919</td>\n",
       "      <td>2015-01-01</td>\n",
       "      <td>0.001975</td>\n",
       "      <td>0.001266</td>\n",
       "      <td>1</td>\n",
       "      <td>112.893944</td>\n",
       "      <td>2.875803e-15</td>\n",
       "      <td>322.874084</td>\n",
       "      <td>0.138507</td>\n",
       "      <td>1</td>\n",
       "    </tr>\n",
       "    <tr>\n",
       "      <th>2</th>\n",
       "      <td>平谷</td>\n",
       "      <td>平谷镇</td>\n",
       "      <td>北京</td>\n",
       "      <td>117.100</td>\n",
       "      <td>40.143</td>\n",
       "      <td>34.226087</td>\n",
       "      <td>31</td>\n",
       "      <td>1018.659729</td>\n",
       "      <td>-0.540426</td>\n",
       "      <td>36.612362</td>\n",
       "      <td>...</td>\n",
       "      <td>0.102925</td>\n",
       "      <td>2015-01-01</td>\n",
       "      <td>0.001081</td>\n",
       "      <td>0.000685</td>\n",
       "      <td>1</td>\n",
       "      <td>95.175110</td>\n",
       "      <td>2.632787e-15</td>\n",
       "      <td>327.405518</td>\n",
       "      <td>0.140614</td>\n",
       "      <td>1</td>\n",
       "    </tr>\n",
       "    <tr>\n",
       "      <th>3</th>\n",
       "      <td>大兴</td>\n",
       "      <td>大兴黄村镇</td>\n",
       "      <td>北京</td>\n",
       "      <td>116.404</td>\n",
       "      <td>39.718</td>\n",
       "      <td>62.608696</td>\n",
       "      <td>39</td>\n",
       "      <td>1017.720398</td>\n",
       "      <td>-0.175816</td>\n",
       "      <td>36.385316</td>\n",
       "      <td>...</td>\n",
       "      <td>0.238552</td>\n",
       "      <td>2015-01-01</td>\n",
       "      <td>0.001942</td>\n",
       "      <td>0.001235</td>\n",
       "      <td>1</td>\n",
       "      <td>122.864220</td>\n",
       "      <td>1.406891e-15</td>\n",
       "      <td>323.216187</td>\n",
       "      <td>0.138756</td>\n",
       "      <td>1</td>\n",
       "    </tr>\n",
       "    <tr>\n",
       "      <th>4</th>\n",
       "      <td>永定门内</td>\n",
       "      <td>永定门内大街，永定门交通点</td>\n",
       "      <td>北京</td>\n",
       "      <td>116.394</td>\n",
       "      <td>39.876</td>\n",
       "      <td>53.795652</td>\n",
       "      <td>52</td>\n",
       "      <td>1016.125244</td>\n",
       "      <td>-0.321042</td>\n",
       "      <td>35.965937</td>\n",
       "      <td>...</td>\n",
       "      <td>0.227112</td>\n",
       "      <td>2015-01-01</td>\n",
       "      <td>0.001963</td>\n",
       "      <td>0.001257</td>\n",
       "      <td>1</td>\n",
       "      <td>115.717644</td>\n",
       "      <td>2.103999e-15</td>\n",
       "      <td>323.141327</td>\n",
       "      <td>0.138746</td>\n",
       "      <td>1</td>\n",
       "    </tr>\n",
       "  </tbody>\n",
       "</table>\n",
       "<p>5 rows × 21 columns</p>\n",
       "</div>"
      ],
      "text/plain": [
       "      sites      site_name city      lon     lat  pm25_davg  ele          prs  \\\n",
       "index                                                                           \n",
       "0        榆垡     京南榆垡，京南区域点   北京  116.300  39.520  96.160870   18  1020.244080   \n",
       "1      西直门北  西直门北大街，西直门交通点   北京  116.349  39.954  48.430435   55  1015.730225   \n",
       "2        平谷            平谷镇   北京  117.100  40.143  34.226087   31  1018.659729   \n",
       "3        大兴          大兴黄村镇   北京  116.404  39.718  62.608696   39  1017.720398   \n",
       "4      永定门内  永定门内大街，永定门交通点   北京  116.394  39.876  53.795652   52  1016.125244   \n",
       "\n",
       "            tem        rhu  ...         aod        date      haod     shaod  \\\n",
       "index                       ...                                               \n",
       "0     -0.003921  36.598670  ...    0.242638  2015-01-01  0.001804  0.001144   \n",
       "1     -0.432289  35.865617  ...    0.222919  2015-01-01  0.001975  0.001266   \n",
       "2     -0.540426  36.612362  ...    0.102925  2015-01-01  0.001081  0.000685   \n",
       "3     -0.175816  36.385316  ...    0.238552  2015-01-01  0.001942  0.001235   \n",
       "4     -0.321042  35.965937  ...    0.227112  2015-01-01  0.001963  0.001257   \n",
       "\n",
       "       jd     pblh_re        pre_re       o3_re  merra2_re  month  \n",
       "index                                                              \n",
       "0       1  134.486526  1.871046e-15  322.445557   0.138301      1  \n",
       "1       1  112.893944  2.875803e-15  322.874084   0.138507      1  \n",
       "2       1   95.175110  2.632787e-15  327.405518   0.140614      1  \n",
       "3       1  122.864220  1.406891e-15  323.216187   0.138756      1  \n",
       "4       1  115.717644  2.103999e-15  323.141327   0.138746      1  \n",
       "\n",
       "[5 rows x 21 columns]"
      ]
     },
     "execution_count": 17,
     "metadata": {},
     "output_type": "execute_result"
    }
   ],
   "source": [
    "pm25data=resautonet.data('pm2.5')\n",
    "pm25data.head()"
   ]
  },
  {
   "cell_type": "code",
   "execution_count": 18,
   "metadata": {},
   "outputs": [],
   "source": [
    "#Derive the more variables for the coordinates to capture spatial variation: \n",
    "tcols=['lat','lon','ele','prs','tem','rhu','win','aod',\n",
    "       'pblh_re','pre_re','o3_re','merra2_re','haod','shaod','jd']\n",
    "pm25data['lat2']=pm25data['lat']*pm25data['lat']\n",
    "pm25data['lon2']=pm25data['lon']*pm25data['lon']\n",
    "pm25data['latlon']=pm25data['lat']*pm25data['lon']\n",
    "tcols.extend(['lat2','lon2','latlon'])"
   ]
  },
  {
   "cell_type": "code",
   "execution_count": 19,
   "metadata": {},
   "outputs": [
    {
     "name": "stderr",
     "output_type": "stream",
     "text": [
      "/usr/lib/python3.4/site-packages/ipykernel_launcher.py:4: FutureWarning: reshape is deprecated and will raise in a subsequent release. Please use .values.reshape(...) instead\n",
      "  after removing the cwd from sys.path.\n"
     ]
    }
   ],
   "source": [
    "# Data preprocesing, log transformation and normailization: \n",
    "X=pm25data[tcols]\n",
    "y=np.log(pm25data['pm25_davg'])\n",
    "y=y.reshape((y.shape[0],1))\n",
    "scX = preprocessing.StandardScaler().fit(X)\n",
    "scy = preprocessing.StandardScaler().fit(y)\n",
    "Xn=scX.transform(X)\n",
    "yn=scy.transform(y)"
   ]
  },
  {
   "cell_type": "code",
   "execution_count": 20,
   "metadata": {},
   "outputs": [
    {
     "name": "stdout",
     "output_type": "stream",
     "text": [
      "(13549, 18) (3388, 18) (13549, 1) (3388, 1) (4235, 18)\n"
     ]
    }
   ],
   "source": [
    "#Split the dataset into the sets of training, validation and test \n",
    "x_train, x_test, y_train,y_test = train_test_split(Xn,yn,\n",
    "                                      test_size=0.2,stratify=pm25data['jd'].values)\n",
    "x_train, x_valid, y_train,y_valid = train_test_split(x_train,y_train,\n",
    "                                      test_size=0.2,stratify=x_train[:,-1])\n",
    "print(x_train.shape,x_valid.shape,y_train.shape,y_valid.shape,x_test.shape)"
   ]
  },
  {
   "cell_type": "markdown",
   "metadata": {},
   "source": [
    "Call the major class,  resAutoencoder from resautonet to obtain the network. \n",
    "Critical network parameters: \n",
    "        * nfea: 18 ; \n",
    "        * layernNodes:[128,96,64,32,16,8] ;\n",
    "        * acts: 'relu';\n",
    "        * reg: L1 and L2 ;\n",
    "        * inresidual: True (residual network);\n",
    "        * defact: 'linear' ;\n",
    "        * dropout: 0.1 \n",
    "        * outputtype: 0, just the target variable to be output. "
   ]
  },
  {
   "cell_type": "code",
   "execution_count": 21,
   "metadata": {},
   "outputs": [
    {
     "name": "stdout",
     "output_type": "stream",
     "text": [
      "__________________________________________________________________________________________________\n",
      "Layer (type)                    Output Shape         Param #     Connected to                     \n",
      "==================================================================================================\n",
      "feat (InputLayer)               (None, 18)           0                                            \n",
      "__________________________________________________________________________________________________\n",
      "dense_19 (Dense)                (None, 128)          2432        feat[0][0]                       \n",
      "__________________________________________________________________________________________________\n",
      "batch_normalization_35 (BatchNo (None, 128)          512         dense_19[0][0]                   \n",
      "__________________________________________________________________________________________________\n",
      "activation_21 (Activation)      (None, 128)          0           batch_normalization_35[0][0]     \n",
      "__________________________________________________________________________________________________\n",
      "batch_normalization_36 (BatchNo (None, 128)          512         activation_21[0][0]              \n",
      "__________________________________________________________________________________________________\n",
      "dense_20 (Dense)                (None, 96)           12384       batch_normalization_36[0][0]     \n",
      "__________________________________________________________________________________________________\n",
      "batch_normalization_37 (BatchNo (None, 96)           384         dense_20[0][0]                   \n",
      "__________________________________________________________________________________________________\n",
      "activation_22 (Activation)      (None, 96)           0           batch_normalization_37[0][0]     \n",
      "__________________________________________________________________________________________________\n",
      "batch_normalization_38 (BatchNo (None, 96)           384         activation_22[0][0]              \n",
      "__________________________________________________________________________________________________\n",
      "dense_21 (Dense)                (None, 64)           6208        batch_normalization_38[0][0]     \n",
      "__________________________________________________________________________________________________\n",
      "batch_normalization_39 (BatchNo (None, 64)           256         dense_21[0][0]                   \n",
      "__________________________________________________________________________________________________\n",
      "activation_23 (Activation)      (None, 64)           0           batch_normalization_39[0][0]     \n",
      "__________________________________________________________________________________________________\n",
      "batch_normalization_40 (BatchNo (None, 64)           256         activation_23[0][0]              \n",
      "__________________________________________________________________________________________________\n",
      "dense_22 (Dense)                (None, 32)           2080        batch_normalization_40[0][0]     \n",
      "__________________________________________________________________________________________________\n",
      "batch_normalization_41 (BatchNo (None, 32)           128         dense_22[0][0]                   \n",
      "__________________________________________________________________________________________________\n",
      "activation_24 (Activation)      (None, 32)           0           batch_normalization_41[0][0]     \n",
      "__________________________________________________________________________________________________\n",
      "batch_normalization_42 (BatchNo (None, 32)           128         activation_24[0][0]              \n",
      "__________________________________________________________________________________________________\n",
      "dense_23 (Dense)                (None, 16)           528         batch_normalization_42[0][0]     \n",
      "__________________________________________________________________________________________________\n",
      "batch_normalization_43 (BatchNo (None, 16)           64          dense_23[0][0]                   \n",
      "__________________________________________________________________________________________________\n",
      "activation_25 (Activation)      (None, 16)           0           batch_normalization_43[0][0]     \n",
      "__________________________________________________________________________________________________\n",
      "batch_normalization_44 (BatchNo (None, 16)           64          activation_25[0][0]              \n",
      "__________________________________________________________________________________________________\n",
      "dense_24 (Dense)                (None, 8)            136         batch_normalization_44[0][0]     \n",
      "__________________________________________________________________________________________________\n",
      "batch_normalization_45 (BatchNo (None, 8)            32          dense_24[0][0]                   \n",
      "__________________________________________________________________________________________________\n",
      "activation_26 (Activation)      (None, 8)            0           batch_normalization_45[0][0]     \n",
      "__________________________________________________________________________________________________\n",
      "batch_normalization_46 (BatchNo (None, 8)            32          activation_26[0][0]              \n",
      "__________________________________________________________________________________________________\n",
      "dropout_3 (Dropout)             (None, 8)            0           batch_normalization_46[0][0]     \n",
      "__________________________________________________________________________________________________\n",
      "dense_25 (Dense)                (None, 16)           144         dropout_3[0][0]                  \n",
      "__________________________________________________________________________________________________\n",
      "batch_normalization_47 (BatchNo (None, 16)           64          dense_25[0][0]                   \n",
      "__________________________________________________________________________________________________\n",
      "activation_27 (Activation)      (None, 16)           0           batch_normalization_47[0][0]     \n",
      "__________________________________________________________________________________________________\n",
      "batch_normalization_48 (BatchNo (None, 16)           64          activation_27[0][0]              \n",
      "__________________________________________________________________________________________________\n",
      "add_5 (Add)                     (None, 16)           0           batch_normalization_44[0][0]     \n",
      "                                                                 batch_normalization_48[0][0]     \n",
      "__________________________________________________________________________________________________\n",
      "batch_normalization_49 (BatchNo (None, 16)           64          add_5[0][0]                      \n",
      "__________________________________________________________________________________________________\n",
      "activation_28 (Activation)      (None, 16)           0           batch_normalization_49[0][0]     \n",
      "__________________________________________________________________________________________________\n",
      "dense_26 (Dense)                (None, 32)           544         activation_28[0][0]              \n",
      "__________________________________________________________________________________________________\n",
      "batch_normalization_50 (BatchNo (None, 32)           128         dense_26[0][0]                   \n",
      "__________________________________________________________________________________________________\n",
      "activation_29 (Activation)      (None, 32)           0           batch_normalization_50[0][0]     \n",
      "__________________________________________________________________________________________________\n",
      "batch_normalization_51 (BatchNo (None, 32)           128         activation_29[0][0]              \n",
      "__________________________________________________________________________________________________\n",
      "add_6 (Add)                     (None, 32)           0           batch_normalization_42[0][0]     \n",
      "                                                                 batch_normalization_51[0][0]     \n",
      "__________________________________________________________________________________________________\n",
      "batch_normalization_52 (BatchNo (None, 32)           128         add_6[0][0]                      \n",
      "__________________________________________________________________________________________________\n",
      "activation_30 (Activation)      (None, 32)           0           batch_normalization_52[0][0]     \n",
      "__________________________________________________________________________________________________\n",
      "dense_27 (Dense)                (None, 64)           2112        activation_30[0][0]              \n",
      "__________________________________________________________________________________________________\n",
      "batch_normalization_53 (BatchNo (None, 64)           256         dense_27[0][0]                   \n",
      "__________________________________________________________________________________________________\n",
      "activation_31 (Activation)      (None, 64)           0           batch_normalization_53[0][0]     \n",
      "__________________________________________________________________________________________________\n",
      "batch_normalization_54 (BatchNo (None, 64)           256         activation_31[0][0]              \n",
      "__________________________________________________________________________________________________\n",
      "add_7 (Add)                     (None, 64)           0           batch_normalization_40[0][0]     \n",
      "                                                                 batch_normalization_54[0][0]     \n",
      "__________________________________________________________________________________________________\n",
      "batch_normalization_55 (BatchNo (None, 64)           256         add_7[0][0]                      \n",
      "__________________________________________________________________________________________________\n",
      "activation_32 (Activation)      (None, 64)           0           batch_normalization_55[0][0]     \n",
      "__________________________________________________________________________________________________\n",
      "dense_28 (Dense)                (None, 96)           6240        activation_32[0][0]              \n",
      "__________________________________________________________________________________________________\n",
      "batch_normalization_56 (BatchNo (None, 96)           384         dense_28[0][0]                   \n",
      "__________________________________________________________________________________________________\n",
      "activation_33 (Activation)      (None, 96)           0           batch_normalization_56[0][0]     \n",
      "__________________________________________________________________________________________________\n",
      "batch_normalization_57 (BatchNo (None, 96)           384         activation_33[0][0]              \n",
      "__________________________________________________________________________________________________\n",
      "add_8 (Add)                     (None, 96)           0           batch_normalization_38[0][0]     \n",
      "                                                                 batch_normalization_57[0][0]     \n",
      "__________________________________________________________________________________________________\n",
      "batch_normalization_58 (BatchNo (None, 96)           384         add_8[0][0]                      \n",
      "__________________________________________________________________________________________________\n",
      "activation_34 (Activation)      (None, 96)           0           batch_normalization_58[0][0]     \n",
      "__________________________________________________________________________________________________\n",
      "dense_29 (Dense)                (None, 128)          12416       activation_34[0][0]              \n",
      "__________________________________________________________________________________________________\n",
      "batch_normalization_59 (BatchNo (None, 128)          512         dense_29[0][0]                   \n",
      "__________________________________________________________________________________________________\n",
      "activation_35 (Activation)      (None, 128)          0           batch_normalization_59[0][0]     \n",
      "__________________________________________________________________________________________________\n",
      "batch_normalization_60 (BatchNo (None, 128)          512         activation_35[0][0]              \n",
      "__________________________________________________________________________________________________\n",
      "add_9 (Add)                     (None, 128)          0           batch_normalization_36[0][0]     \n",
      "                                                                 batch_normalization_60[0][0]     \n",
      "__________________________________________________________________________________________________\n",
      "batch_normalization_61 (BatchNo (None, 128)          512         add_9[0][0]                      \n",
      "__________________________________________________________________________________________________\n",
      "activation_36 (Activation)      (None, 128)          0           batch_normalization_61[0][0]     \n",
      "__________________________________________________________________________________________________\n",
      "dense_30 (Dense)                (None, 18)           2322        activation_36[0][0]              \n",
      "__________________________________________________________________________________________________\n",
      "activation_37 (Activation)      (None, 18)           0           dense_30[0][0]                   \n",
      "__________________________________________________________________________________________________\n",
      "batch_normalization_62 (BatchNo (None, 18)           72          activation_37[0][0]              \n",
      "__________________________________________________________________________________________________\n",
      "add_10 (Add)                    (None, 18)           0           feat[0][0]                       \n",
      "                                                                 batch_normalization_62[0][0]     \n",
      "__________________________________________________________________________________________________\n",
      "activation_38 (Activation)      (None, 18)           0           add_10[0][0]                     \n",
      "__________________________________________________________________________________________________\n",
      "batch_normalization_63 (BatchNo (None, 18)           72          activation_38[0][0]              \n",
      "__________________________________________________________________________________________________\n",
      "dense_31 (Dense)                (None, 1)            19          batch_normalization_63[0][0]     \n",
      "==================================================================================================\n",
      "Total params: 54,493\n",
      "Trainable params: 51,029\n",
      "Non-trainable params: 3,464\n",
      "__________________________________________________________________________________________________\n"
     ]
    }
   ],
   "source": [
    "modelCls = resautonet.model.resAutoencoder(x_train.shape[1], [128,96,64,32,16,8],'relu',1,\n",
    "        reg=keras.regularizers.l1_l2(0),inresidual=True,outnres=None,dropout=0.1,defact='linear')\n",
    "resmodel = modelCls.resAutoNet()\n",
    "resmodel.summary()\n",
    "resmodel.compile(optimizer=\"adam\", loss= 'mean_squared_error',#'mean_squared_error',#mean_squared_error bce_dice_loss, #jaccard_coef_loss, jaccardent_coef_loss1\n",
    "      metrics=['mean_squared_error',r2K,r2KAuto])\n"
   ]
  },
  {
   "cell_type": "markdown",
   "metadata": {},
   "source": [
    "Staring to train the model:"
   ]
  },
  {
   "cell_type": "code",
   "execution_count": 22,
   "metadata": {
    "scrolled": true
   },
   "outputs": [],
   "source": [
    "from keras.callbacks import EarlyStopping, ReduceLROnPlateau,ModelCheckpoint \n",
    "# Set the file path to save the model's parameters \n",
    "modelFl='/tmp/pm25model_res.wei'\n",
    "checkpoint = ModelCheckpoint(modelFl, monitor='loss', verbose=0, save_best_only=True, mode='min',\n",
    "                                 save_weights_only=True)\n",
    "reduceLROnPlat = ReduceLROnPlateau(monitor='loss', factor=0.1,\n",
    "                                       patience=1, verbose=0, mode='min',\n",
    "                                       min_delta=0.0001, cooldown=0, min_lr=1e-8)\n",
    "early = EarlyStopping(monitor='loss', mode=\"min\", verbose=0,\n",
    "                          patience=200)\n",
    "\n",
    "fhist_res=resmodel.fit(x_train, y_train, batch_size=256, epochs=100, verbose=0, shuffle=True,\n",
    "           validation_data=(x_valid, y_valid),callbacks=[early, checkpoint, reduceLROnPlat])\n"
   ]
  },
  {
   "cell_type": "markdown",
   "metadata": {},
   "source": [
    "Test the independent dataset using the trained model. RMSE and Rsquared are used as the metrics.  "
   ]
  },
  {
   "cell_type": "code",
   "execution_count": 23,
   "metadata": {},
   "outputs": [
    {
     "name": "stdout",
     "output_type": "stream",
     "text": [
      "indepdendent test:r2- 0.8673833162656025 rmse: 25.903231367848974\n"
     ]
    }
   ],
   "source": [
    "resmodel.load_weights(modelFl)\n",
    "resmodel.compile(optimizer=\"adam\", loss= 'mean_squared_error',#'mean_squared_error',#mean_squared_error bce_dice_loss, #jaccard_coef_loss, jaccardent_coef_loss1\n",
    "      metrics=['mean_squared_error',r2K,r2KAuto])\n",
    "\n",
    "y_test_pred=resmodel.predict(x_test)\n",
    "\n",
    "obs=np.exp(scy.inverse_transform(y_test[:,-1]))\n",
    "preres=np.exp(scy.inverse_transform(y_test_pred[:,-1]))\n",
    "\n",
    "r2_res=rsquared(obs,preres)\n",
    "rmse_res=rmse(obs,preres)\n",
    "print(\"indepdendent test:r2-\",r2_res,\"rmse:\",rmse_res)"
   ]
  },
  {
   "cell_type": "markdown",
   "metadata": {},
   "source": [
    "Call the major class,  resAutoencoder from resautonet to obtain the network without residual connection, i.e. regular autoencoder deep network bying setting the argument of inresidual as False (the other arguments are the same):  "
   ]
  },
  {
   "cell_type": "code",
   "execution_count": 24,
   "metadata": {},
   "outputs": [
    {
     "name": "stdout",
     "output_type": "stream",
     "text": [
      "_________________________________________________________________\n",
      "Layer (type)                 Output Shape              Param #   \n",
      "=================================================================\n",
      "feat (InputLayer)            (None, 18)                0         \n",
      "_________________________________________________________________\n",
      "dense_32 (Dense)             (None, 128)               2432      \n",
      "_________________________________________________________________\n",
      "batch_normalization_64 (Batc (None, 128)               512       \n",
      "_________________________________________________________________\n",
      "activation_39 (Activation)   (None, 128)               0         \n",
      "_________________________________________________________________\n",
      "batch_normalization_65 (Batc (None, 128)               512       \n",
      "_________________________________________________________________\n",
      "dense_33 (Dense)             (None, 96)                12384     \n",
      "_________________________________________________________________\n",
      "batch_normalization_66 (Batc (None, 96)                384       \n",
      "_________________________________________________________________\n",
      "activation_40 (Activation)   (None, 96)                0         \n",
      "_________________________________________________________________\n",
      "batch_normalization_67 (Batc (None, 96)                384       \n",
      "_________________________________________________________________\n",
      "dense_34 (Dense)             (None, 64)                6208      \n",
      "_________________________________________________________________\n",
      "batch_normalization_68 (Batc (None, 64)                256       \n",
      "_________________________________________________________________\n",
      "activation_41 (Activation)   (None, 64)                0         \n",
      "_________________________________________________________________\n",
      "batch_normalization_69 (Batc (None, 64)                256       \n",
      "_________________________________________________________________\n",
      "dense_35 (Dense)             (None, 32)                2080      \n",
      "_________________________________________________________________\n",
      "batch_normalization_70 (Batc (None, 32)                128       \n",
      "_________________________________________________________________\n",
      "activation_42 (Activation)   (None, 32)                0         \n",
      "_________________________________________________________________\n",
      "batch_normalization_71 (Batc (None, 32)                128       \n",
      "_________________________________________________________________\n",
      "dense_36 (Dense)             (None, 16)                528       \n",
      "_________________________________________________________________\n",
      "batch_normalization_72 (Batc (None, 16)                64        \n",
      "_________________________________________________________________\n",
      "activation_43 (Activation)   (None, 16)                0         \n",
      "_________________________________________________________________\n",
      "batch_normalization_73 (Batc (None, 16)                64        \n",
      "_________________________________________________________________\n",
      "dense_37 (Dense)             (None, 8)                 136       \n",
      "_________________________________________________________________\n",
      "batch_normalization_74 (Batc (None, 8)                 32        \n",
      "_________________________________________________________________\n",
      "activation_44 (Activation)   (None, 8)                 0         \n",
      "_________________________________________________________________\n",
      "batch_normalization_75 (Batc (None, 8)                 32        \n",
      "_________________________________________________________________\n",
      "dropout_4 (Dropout)          (None, 8)                 0         \n",
      "_________________________________________________________________\n",
      "dense_38 (Dense)             (None, 16)                144       \n",
      "_________________________________________________________________\n",
      "batch_normalization_76 (Batc (None, 16)                64        \n",
      "_________________________________________________________________\n",
      "activation_45 (Activation)   (None, 16)                0         \n",
      "_________________________________________________________________\n",
      "batch_normalization_77 (Batc (None, 16)                64        \n",
      "_________________________________________________________________\n",
      "dense_39 (Dense)             (None, 32)                544       \n",
      "_________________________________________________________________\n",
      "batch_normalization_78 (Batc (None, 32)                128       \n",
      "_________________________________________________________________\n",
      "activation_46 (Activation)   (None, 32)                0         \n",
      "_________________________________________________________________\n",
      "batch_normalization_79 (Batc (None, 32)                128       \n",
      "_________________________________________________________________\n",
      "dense_40 (Dense)             (None, 64)                2112      \n",
      "_________________________________________________________________\n",
      "batch_normalization_80 (Batc (None, 64)                256       \n",
      "_________________________________________________________________\n",
      "activation_47 (Activation)   (None, 64)                0         \n",
      "_________________________________________________________________\n",
      "batch_normalization_81 (Batc (None, 64)                256       \n",
      "_________________________________________________________________\n",
      "dense_41 (Dense)             (None, 96)                6240      \n",
      "_________________________________________________________________\n",
      "batch_normalization_82 (Batc (None, 96)                384       \n",
      "_________________________________________________________________\n",
      "activation_48 (Activation)   (None, 96)                0         \n",
      "_________________________________________________________________\n",
      "batch_normalization_83 (Batc (None, 96)                384       \n",
      "_________________________________________________________________\n",
      "dense_42 (Dense)             (None, 128)               12416     \n",
      "_________________________________________________________________\n",
      "batch_normalization_84 (Batc (None, 128)               512       \n",
      "_________________________________________________________________\n",
      "activation_49 (Activation)   (None, 128)               0         \n",
      "_________________________________________________________________\n",
      "batch_normalization_85 (Batc (None, 128)               512       \n",
      "_________________________________________________________________\n",
      "dense_43 (Dense)             (None, 18)                2322      \n",
      "_________________________________________________________________\n",
      "activation_50 (Activation)   (None, 18)                0         \n",
      "_________________________________________________________________\n",
      "batch_normalization_86 (Batc (None, 18)                72        \n",
      "_________________________________________________________________\n",
      "dense_44 (Dense)             (None, 1)                 19        \n",
      "=================================================================\n",
      "Total params: 53,077\n",
      "Trainable params: 50,321\n",
      "Non-trainable params: 2,756\n",
      "_________________________________________________________________\n"
     ]
    }
   ],
   "source": [
    "modelCls =resautonet.model.resAutoencoder(x_train.shape[1], [128,96,64,32,16,8],'relu',1,\n",
    "        reg=keras.regularizers.l1_l2(0),inresidual=False,outnres=None,dropout=0.1,defact='linear')\n",
    "noresmodel = modelCls.resAutoNet()\n",
    "noresmodel.summary()\n",
    "noresmodel.compile(optimizer=\"adam\", loss= 'mean_squared_error',#'mean_squared_error',#mean_squared_error bce_dice_loss, #jaccard_coef_loss, jaccardent_coef_loss1\n",
    "      metrics=['mean_squared_error',r2K,r2KAuto])"
   ]
  },
  {
   "cell_type": "markdown",
   "metadata": {},
   "source": [
    "Staring to train the model of regular network (no residual connections) :"
   ]
  },
  {
   "cell_type": "code",
   "execution_count": 25,
   "metadata": {
    "scrolled": true
   },
   "outputs": [],
   "source": [
    "from keras.callbacks import EarlyStopping, ReduceLROnPlateau,ModelCheckpoint \n",
    "\n",
    "modelFl='/tmp/pm25model_nores.wei'\n",
    "checkpoint = ModelCheckpoint(modelFl, monitor='loss', verbose=0, save_best_only=True, mode='min',\n",
    "                                 save_weights_only=True)\n",
    "reduceLROnPlat = ReduceLROnPlateau(monitor='loss', factor=0.1,\n",
    "                                       patience=1, verbose=0, mode='min',\n",
    "                                       min_delta=0.0001, cooldown=0, min_lr=1e-8)\n",
    "early = EarlyStopping(monitor='loss', mode=\"min\", verbose=0,\n",
    "                          patience=200)\n",
    "\n",
    "fhist_nores=noresmodel.fit(x_train, y_train, batch_size=1000, epochs=100, verbose=0, shuffle=True,\n",
    "           validation_data=(x_valid, y_valid),callbacks=[early, checkpoint, reduceLROnPlat])"
   ]
  },
  {
   "cell_type": "markdown",
   "metadata": {},
   "source": [
    "Test the independent dataset using the trained model. RMSE and Rsquared are used as the metrics. "
   ]
  },
  {
   "cell_type": "code",
   "execution_count": 26,
   "metadata": {},
   "outputs": [
    {
     "name": "stdout",
     "output_type": "stream",
     "text": [
      "indepdendent test:r2- 0.5150908539440606 rmse: 49.531907212536936\n"
     ]
    }
   ],
   "source": [
    "noresmodel.load_weights(modelFl)\n",
    "noresmodel.compile(optimizer=\"adam\", loss= 'mean_squared_error',#'mean_squared_error',#mean_squared_error bce_dice_loss, #jaccard_coef_loss, jaccardent_coef_loss1\n",
    "      metrics=['mean_squared_error',r2K,r2KAuto])\n",
    "\n",
    "y_test_pred=noresmodel.predict(x_test)\n",
    "\n",
    "obs=np.exp(scy.inverse_transform(y_test[:,-1]))\n",
    "prenores=np.exp(scy.inverse_transform(y_test_pred[:,-1]))\n",
    "\n",
    "r2_nores=rsquared(obs,prenores)\n",
    "rmse_nores=rmse(obs,prenores)\n",
    "print(\"indepdendent test:r2-\",r2_nores,\"rmse:\",rmse_nores)"
   ]
  },
  {
   "cell_type": "markdown",
   "metadata": {},
   "source": [
    "Then compare the scatter plots of residual deep network and regular network to see the difference in the distributions of their predictions : "
   ]
  },
  {
   "cell_type": "code",
   "execution_count": 27,
   "metadata": {},
   "outputs": [
    {
     "data": {
      "image/png": "[encoded data removed]",
      "text/plain": [
       "<Figure size 960x320 with 2 Axes>"
      ]
     },
     "metadata": {},
     "output_type": "display_data"
    }
   ],
   "source": [
    "plt.figure(num=None, figsize=(12,4), dpi=80, facecolor='w', edgecolor='k')\n",
    "plt.subplot(121)\n",
    "plt.scatter(obs,prenores)\n",
    "plt.xlim(-10,800)\n",
    "plt.ylim(-10,800)\n",
    "#plt.axis('equal')\n",
    "plt.title(\"$\\mathregular{R^2}$=\"+str(np.round(r2_nores,2)))\n",
    "plt.xlabel(\"a. Simulated (ground truth) values\")\n",
    "plt.ylabel('Predicted values (regular net)')\n",
    "x=[-10 , 800]\n",
    "y=[ -10, 800]\n",
    "connectpoints(x,y,0,1)\n",
    "plt.subplot(122)\n",
    "plt.scatter(obs,preres)\n",
    "plt.xlim(-10,800)\n",
    "plt.ylim(-10,800)\n",
    "#plt.axis('equal')\n",
    "plt.title(\"$\\mathregular{R^2}$=\"+str(np.round(r2_res,2)))\n",
    "plt.xlabel(\"b. Simulated (ground truth) values\")\n",
    "plt.ylabel('Predicted values (residual net)')\n",
    "x=[-10 , 800]\n",
    "y=[ -10, 800]\n",
    "connectpoints(x,y,0,1)\n",
    "plt.show()"
   ]
  },
  {
   "cell_type": "markdown",
   "metadata": {},
   "source": [
    "Compare the training curves of RMSE and R<sup>2</sup>  of residual deep network to check the difference in convergence and training efficiency: "
   ]
  },
  {
   "cell_type": "code",
   "execution_count": 28,
   "metadata": {},
   "outputs": [
    {
     "data": {
      "image/png": "[encoded data removed]",
      "text/plain": [
       "<Figure size 960x320 with 2 Axes>"
      ]
     },
     "metadata": {},
     "output_type": "display_data"
    }
   ],
   "source": [
    "rhDf_nores=pd.DataFrame(fhist_nores.history) \n",
    "rhDf_res=pd.DataFrame(fhist_res.history) \n",
    "rhDf_nores['epoch']=pd.Series(np.arange(1,len(rhDf_nores)+1))\n",
    "rhDf_res['epoch']=pd.Series(np.arange(1,len(rhDf_res)+1))\n",
    "rhDf_res['mean_squared_error'].shape \n",
    "\n",
    "plt.figure(num=None, figsize=(12,4), dpi=80, facecolor='w', edgecolor='k')\n",
    "plt.subplot(121)\n",
    "plt.plot( 'epoch', 'mean_squared_error', data=rhDf_nores, marker='', markerfacecolor='blue', markersize=12, color='blue', linewidth=2,label='Re train')\n",
    "plt.plot( 'epoch', 'val_mean_squared_error', data=rhDf_nores, marker='', color='blue', linewidth=2,linestyle='dashed',label=\"Re validation\")\n",
    "plt.plot( 'epoch', 'mean_squared_error', data=rhDf_res,marker='', color='black', linewidth=2, label=\"Res train\")\n",
    "plt.plot( 'epoch', 'val_mean_squared_error', data=rhDf_res,marker='', color='black', linewidth=2, linestyle='dashed', label=\"Res validation\")\n",
    "plt.legend()\n",
    "plt.xlabel('a. Epoch')\n",
    "plt.ylabel('Mean_squared_error')\n",
    "plt.subplot(122)\n",
    "plt.plot( 'epoch', 'r2KAuto', data=rhDf_nores, marker='', markerfacecolor='blue', markersize=12, color='blue', linewidth=2,label='Re train')\n",
    "plt.plot( 'epoch', 'val_r2KAuto', data=rhDf_nores, marker='', color='blue', linewidth=2,linestyle='dashed',label=\"Re validation\")\n",
    "plt.plot( 'epoch', 'r2KAuto', data=rhDf_res,marker='', color='black', linewidth=2, label=\"Res train\")\n",
    "plt.plot( 'epoch', 'val_r2KAuto', data=rhDf_res,marker='', color='black', linewidth=2, linestyle='dashed', label=\"Res validation\")\n",
    "plt.legend()\n",
    "plt.xlabel('b. Epoch')\n",
    "plt.ylabel(r'$\\mathregular{R^2}$') \n",
    "plt.show()"
   ]
  },
  {
   "cell_type": "markdown",
   "metadata": {},
   "source": [
    "#### Comparison with the independent monitoring data from US embassy in Beijing\n",
    "\n",
    "Using the residual deep network, we made the 2015 daily surfaces of PM<sub>2.5</sub> concentrations ($\\mu$g/m<sup>3</sup>) (365 surfaces) for  the Beijing-Tianjin_tanshan area and extracted its daily predicted values of 2015 for the monitroing station of air quality of the US embassy in Beijing. We made the comparison between the observed and predicted values.  R<sup>2<\\sup>=0.97 and RMSE=13.23 $\\mu$g/m<sup>3</sup>. We also made the scatter plots and time series of the residuals to observe discernable pattern. The random pattern indicates spatiotemporal variability of PM<sub>2.5</sub> has been captured by our models. The predicted and observed values match each other perfectly. \n",
    "<img  align=\"left\" src=\"figs/usembassy.png\" width=\"800\"  height=\"700\"  hspace=\"10\"/>"
   ]
  },
  {
   "cell_type": "markdown",
   "metadata": {},
   "source": [
    "_*  For this library and its relevant applications, welcome to contact Dr. Lianfa Li. *_\n",
    " - Email: lspatial@gmail.com"
   ]
  }
 ],
 "metadata": {
  "kernelspec": {
   "display_name": "Python 3",
   "language": "python",
   "name": "python3"
  },
  "language_info": {
   "codemirror_mode": {
    "name": "ipython",
    "version": 3
   },
   "file_extension": ".py",
   "mimetype": "text/x-python",
   "name": "python",
   "nbconvert_exporter": "python",
   "pygments_lexer": "ipython3",
   "version": "3.4.8"
  }
 },
 "nbformat": 4,
 "nbformat_minor": 1
}
